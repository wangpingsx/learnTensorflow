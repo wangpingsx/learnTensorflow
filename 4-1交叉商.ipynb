{
 "cells": [
  {
   "cell_type": "code",
   "execution_count": 5,
   "metadata": {},
   "outputs": [],
   "source": [
    "import tensorflow as tf\n",
    "from tensorflow.examples.tutorials.mnist import input_data"
   ]
  },
  {
   "cell_type": "code",
   "execution_count": 6,
   "metadata": {},
   "outputs": [
    {
     "name": "stdout",
     "output_type": "stream",
     "text": [
      "Extracting MNIST_data/train-images-idx3-ubyte.gz\n",
      "Extracting MNIST_data/train-labels-idx1-ubyte.gz\n",
      "Extracting MNIST_data/t10k-images-idx3-ubyte.gz\n",
      "Extracting MNIST_data/t10k-labels-idx1-ubyte.gz\n",
      "iter 0, acc = [0.8618, array([ True,  True,  True, ...,  True,  True,  True]), array([1., 1., 1., ..., 1., 1., 1.], dtype=float32)]\n",
      "iter 1, acc = [0.9044, array([ True,  True,  True, ...,  True, False,  True]), array([1., 1., 1., ..., 1., 0., 1.], dtype=float32)]\n",
      "iter 2, acc = [0.9103, array([ True,  True,  True, ...,  True, False,  True]), array([1., 1., 1., ..., 1., 0., 1.], dtype=float32)]\n",
      "iter 3, acc = [0.9127, array([ True,  True,  True, ...,  True, False,  True]), array([1., 1., 1., ..., 1., 0., 1.], dtype=float32)]\n",
      "iter 4, acc = [0.9156, array([ True,  True,  True, ...,  True, False,  True]), array([1., 1., 1., ..., 1., 0., 1.], dtype=float32)]\n",
      "iter 5, acc = [0.9181, array([ True,  True,  True, ...,  True, False,  True]), array([1., 1., 1., ..., 1., 0., 1.], dtype=float32)]\n",
      "iter 6, acc = [0.9191, array([ True,  True,  True, ...,  True, False,  True]), array([1., 1., 1., ..., 1., 0., 1.], dtype=float32)]\n",
      "iter 7, acc = [0.9198, array([ True,  True,  True, ...,  True, False,  True]), array([1., 1., 1., ..., 1., 0., 1.], dtype=float32)]\n",
      "iter 8, acc = [0.92, array([ True,  True,  True, ...,  True, False,  True]), array([1., 1., 1., ..., 1., 0., 1.], dtype=float32)]\n",
      "iter 9, acc = [0.9213, array([ True,  True,  True, ...,  True, False,  True]), array([1., 1., 1., ..., 1., 0., 1.], dtype=float32)]\n",
      "iter 10, acc = [0.9229, array([ True,  True,  True, ...,  True, False,  True]), array([1., 1., 1., ..., 1., 0., 1.], dtype=float32)]\n",
      "iter 11, acc = [0.921, array([ True,  True,  True, ...,  True, False,  True]), array([1., 1., 1., ..., 1., 0., 1.], dtype=float32)]\n",
      "iter 12, acc = [0.9233, array([ True,  True,  True, ...,  True, False,  True]), array([1., 1., 1., ..., 1., 0., 1.], dtype=float32)]\n",
      "iter 13, acc = [0.9234, array([ True,  True,  True, ...,  True, False,  True]), array([1., 1., 1., ..., 1., 0., 1.], dtype=float32)]\n",
      "iter 14, acc = [0.9239, array([ True,  True,  True, ...,  True, False,  True]), array([1., 1., 1., ..., 1., 0., 1.], dtype=float32)]\n",
      "iter 15, acc = [0.9249, array([ True,  True,  True, ...,  True, False,  True]), array([1., 1., 1., ..., 1., 0., 1.], dtype=float32)]\n",
      "iter 16, acc = [0.9236, array([ True,  True,  True, ...,  True, False,  True]), array([1., 1., 1., ..., 1., 0., 1.], dtype=float32)]\n",
      "iter 17, acc = [0.9241, array([ True,  True,  True, ...,  True, False,  True]), array([1., 1., 1., ..., 1., 0., 1.], dtype=float32)]\n",
      "iter 18, acc = [0.9265, array([ True,  True,  True, ...,  True, False,  True]), array([1., 1., 1., ..., 1., 0., 1.], dtype=float32)]\n",
      "iter 19, acc = [0.9248, array([ True,  True,  True, ...,  True, False,  True]), array([1., 1., 1., ..., 1., 0., 1.], dtype=float32)]\n",
      "iter 20, acc = [0.9259, array([ True,  True,  True, ...,  True, False,  True]), array([1., 1., 1., ..., 1., 0., 1.], dtype=float32)]\n"
     ]
    }
   ],
   "source": [
    "#one_hot 是那个字节表示形式，一个1，其它都是0\n",
    "mnist = input_data.read_data_sets(\"MNIST_data\", one_hot=True)\n",
    "\n",
    "#一次训练几个图片?\n",
    "batch_size = 50\n",
    "\n",
    "n_batch = mnist.train.num_examples//batch_size\n",
    "\n",
    "x = tf.placeholder(tf.float32,[None, 784])\n",
    "y = tf.placeholder(tf.float32,[None, 10])\n",
    "\n",
    "w = tf.Variable(tf.zeros([784, 10]))\n",
    "b = tf.Variable(tf.zeros([10]))\n",
    "#softmax会把所有东西转换成概率值\n",
    "prediction = tf.nn.softmax(tf.matmul(x,w) + b)\n",
    "\n",
    "# 二次代价函数\n",
    "# loss = tf.reduce_mean(tf.square(y - prediction))\n",
    "# 交叉商\n",
    "loss = tf.reduce_mean(tf.nn.softmax_cross_entropy_with_logits(labels=y, logits=prediction))\n",
    "\n",
    "\n",
    "train_step = tf.train.GradientDescentOptimizer(0.2).minimize(loss)\n",
    "\n",
    "init = tf.global_variables_initializer()\n",
    "\n",
    "# argmax 是找到最大值所在的位置 0001000  =>3\n",
    "correct_prediction = tf.equal(tf.argmax(y, 1), tf.argmax(prediction, 1))\n",
    "temp = tf.cast(correct_prediction, tf.float32)\n",
    "accuracy = tf.reduce_mean(temp)\n",
    "\n",
    "with tf.Session() as sess:\n",
    "    sess.run(init)\n",
    "    for epoch in range(21):\n",
    "        for batch in range(n_batch):\n",
    "            batch_xs, batch_ys =  mnist.train.next_batch(batch_size)\n",
    "            sess.run(train_step, feed_dict={x: batch_xs, y:batch_ys})\n",
    "        acc = sess.run([accuracy, correct_prediction, temp], feed_dict={x:mnist.test.images, y: mnist.test.labels})\n",
    "        print(\"iter \" + str(epoch) + \", acc = \" + str(acc))"
   ]
  },
  {
   "cell_type": "code",
   "execution_count": null,
   "metadata": {},
   "outputs": [],
   "source": []
  }
 ],
 "metadata": {
  "kernelspec": {
   "display_name": "Python 3",
   "language": "python",
   "name": "python3"
  },
  "language_info": {
   "codemirror_mode": {
    "name": "ipython",
    "version": 3
   },
   "file_extension": ".py",
   "mimetype": "text/x-python",
   "name": "python",
   "nbconvert_exporter": "python",
   "pygments_lexer": "ipython3",
   "version": "3.6.5"
  }
 },
 "nbformat": 4,
 "nbformat_minor": 2
}
