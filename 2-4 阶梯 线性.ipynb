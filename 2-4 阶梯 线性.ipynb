{
 "cells": [
  {
   "cell_type": "code",
   "execution_count": 1,
   "metadata": {},
   "outputs": [],
   "source": [
    "import tensorflow as tf\n",
    "import numpy as np"
   ]
  },
  {
   "cell_type": "code",
   "execution_count": 47,
   "metadata": {},
   "outputs": [
    {
     "name": "stdout",
     "output_type": "stream",
     "text": [
      "0 [0.00259009, 0.0049697417]\n",
      "0 0.05954654\n",
      "20 [0.04267608, 0.08193715]\n",
      "20 0.021570837\n",
      "40 [0.06676539, 0.12828043]\n",
      "40 0.007814456\n",
      "60 [0.081227906, 0.1561916]\n",
      "60 0.0028313017\n",
      "80 [0.08989743, 0.17300856]\n",
      "80 0.0010261708\n",
      "100 [0.09508137, 0.18314785]\n",
      "100 0.0003722466\n",
      "120 [0.098168395, 0.18926756]\n",
      "120 0.00013533935\n",
      "140 [0.09999432, 0.19296752]\n",
      "140 4.949456e-05\n",
      "160 [0.10106212, 0.1952107]\n",
      "160 1.837152e-05\n",
      "180 [0.10167455, 0.19657655]\n",
      "180 7.0729175e-06\n",
      "200 [0.102013744, 0.19741398]\n",
      "200 2.9566381e-06\n",
      "220 [0.10218934, 0.19793293]\n",
      "220 1.4434393e-06\n",
      "240 [0.10226726, 0.19825977]\n",
      "240 8.744383e-07\n",
      "260 [0.1022872, 0.19847058]\n",
      "260 6.486344e-07\n",
      "280 [0.10227301, 0.19861114]\n",
      "280 5.482618e-07\n",
      "300 [0.10223901, 0.19870903]\n",
      "300 4.943679e-07\n"
     ]
    }
   ],
   "source": [
    "x_data = np.random.rand(500)\n",
    "y_data = 0.1*x_data + 0.2\n",
    "\n",
    "b = tf.Variable(0.)\n",
    "k = tf.Variable(0.)\n",
    "y = k*x_data + b\n",
    "\n",
    "loss = tf.reduce_mean(tf.square(y - y_data))\n",
    "\n",
    "optimizer = tf.train.GradientDescentOptimizer(0.01)\n",
    "\n",
    "train = optimizer.minimize(loss)\n",
    "\n",
    "init = tf.global_variables_initializer()\n",
    "\n",
    "with tf.Session() as sess:\n",
    "    sess.run(init)\n",
    "#     print(x_data)\n",
    "    for step in range(301):\n",
    "        sess.run(train)\n",
    "        if step%20 == 0:\n",
    "            print(step, sess.run([k,b]))\n",
    "            print(step, sess.run(loss))\n"
   ]
  },
  {
   "cell_type": "code",
   "execution_count": null,
   "metadata": {},
   "outputs": [],
   "source": []
  }
 ],
 "metadata": {
  "kernelspec": {
   "display_name": "Python 3",
   "language": "python",
   "name": "python3"
  },
  "language_info": {
   "codemirror_mode": {
    "name": "ipython",
    "version": 3
   },
   "file_extension": ".py",
   "mimetype": "text/x-python",
   "name": "python",
   "nbconvert_exporter": "python",
   "pygments_lexer": "ipython3",
   "version": "3.6.5"
  }
 },
 "nbformat": 4,
 "nbformat_minor": 2
}
