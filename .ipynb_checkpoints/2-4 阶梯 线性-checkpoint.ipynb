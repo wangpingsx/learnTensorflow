{
 "cells": [
  {
   "cell_type": "code",
   "execution_count": 1,
   "metadata": {},
   "outputs": [],
   "source": [
    "import tensorflow as tf\n",
    "import numpy as np"
   ]
  },
  {
   "cell_type": "code",
   "execution_count": 40,
   "metadata": {},
   "outputs": [
    {
     "name": "stdout",
     "output_type": "stream",
     "text": [
      "0 [0.23770761, 0.4187267]\n",
      "20 [0.27296147, 0.21436572]\n",
      "40 [0.29474816, 0.20279025]\n",
      "60 [0.2989799, 0.20054197]\n",
      "80 [0.2998019, 0.20010526]\n",
      "100 [0.29996154, 0.20002045]\n",
      "120 [0.29999253, 0.20000398]\n",
      "140 [0.29999855, 0.20000076]\n",
      "160 [0.2999997, 0.20000015]\n",
      "180 [0.2999999, 0.20000005]\n",
      "200 [0.2999999, 0.20000005]\n",
      "220 [0.2999999, 0.20000005]\n",
      "240 [0.2999999, 0.20000005]\n",
      "260 [0.2999999, 0.20000005]\n",
      "280 [0.2999999, 0.20000005]\n",
      "300 [0.2999999, 0.20000005]\n"
     ]
    }
   ],
   "source": [
    "x_data = np.random.rand(100)\n",
    "y_data = 0.1*x_data + 0.2\n",
    "\n",
    "b = tf.Variable(0.)\n",
    "k = tf.Variable(0.)\n",
    "y = k*x_data + b\n",
    "\n",
    "loss = tf.reduce_mean(tf.square(y - y_data))\n",
    "\n",
    "optimizer = tf.train.GradientDescentOptimizer(0.2)\n",
    "\n",
    "train = optimizer.minimize(loss)\n",
    "\n",
    "init = tf.global_variables_initializer()\n",
    "\n",
    "with tf.Session() as sess:\n",
    "    sess.run(init)\n",
    "#     print(x_data)\n",
    "    for step in range(301):\n",
    "        sess.run(train)\n",
    "        if step%20 == 0:\n",
    "            print(step, sess.run([k,b]))\n"
   ]
  },
  {
   "cell_type": "code",
   "execution_count": null,
   "metadata": {},
   "outputs": [],
   "source": []
  }
 ],
 "metadata": {
  "kernelspec": {
   "display_name": "Python 3",
   "language": "python",
   "name": "python3"
  },
  "language_info": {
   "codemirror_mode": {
    "name": "ipython",
    "version": 3
   },
   "file_extension": ".py",
   "mimetype": "text/x-python",
   "name": "python",
   "nbconvert_exporter": "python",
   "pygments_lexer": "ipython3",
   "version": "3.6.5"
  }
 },
 "nbformat": 4,
 "nbformat_minor": 2
}
