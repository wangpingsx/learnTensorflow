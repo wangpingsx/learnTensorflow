{
 "cells": [
  {
   "cell_type": "code",
   "execution_count": 1,
   "metadata": {},
   "outputs": [],
   "source": [
    "import tensorflow as tf\n",
    "from tensorflow.examples.tutorials.mnist import input_data"
   ]
  },
  {
   "cell_type": "code",
   "execution_count": null,
   "metadata": {},
   "outputs": [],
   "source": [
    "#one_hot 是那个字节表示形式，一个1，其它都是0\n",
    "mnist = input_data.read_data_sets(\"MNIST_data\", one_hot=True)\n",
    "\n",
    "#一次训练几个图片?\n",
    "batch_size = 50\n",
    "\n",
    "n_batch = mnist.train.num_examples//batch_size\n",
    "\n",
    "x = tf.placeholder(tf.float32,[None, 784])\n",
    "y = tf.placeholder(tf.float32,[None, 10])\n",
    "keep_prob = tf.placeholder(tf.float32)\n",
    "\n",
    "# w1 = tf.Variable(tf.zeros([784, 10]))\n",
    "# b1 = tf.Variable(tf.zeros([10]))\n",
    "# 比较好的初始化值\n",
    "w1 = tf.Variable(tf.truncated_normal([784, 2000], stddev=0.1))\n",
    "b1 = tf.Variable(tf.zeros([2000]) + 0.1)\n",
    "# 激活函数用正切（以后可能用别的？）\n",
    "l1 = tf.nn.tanh(tf.matmul(x, w1) +  b1)\n",
    "# keep_prob是说想要多少神经元工作。\n",
    "l1_dropout = tf.nn.dropout(l1, keep_prob)\n",
    "\n",
    "\n",
    "w2 = tf.Variable(tf.truncated_normal([2000, 2000], stddev=0.1))\n",
    "b2 = tf.Variable(tf.zeros([2000]) + 0.1)\n",
    "l2 = tf.nn.tanh(tf.matmul(l1_dropout, w2) +  b2)\n",
    "l2_dropout = tf.nn.dropout(l2, keep_prob)\n",
    "\n",
    "\n",
    "#softmax会把所有东西转换成概率值\n",
    "prediction = tf.nn.softmax(tf.matmul(x,w) + b)\n",
    "\n",
    "# 二次代价函数\n",
    "# loss = tf.reduce_mean(tf.square(y - prediction))\n",
    "# 交叉商\n",
    "loss = tf.reduce_mean(tf.nn.softmax_cross_entropy_with_logits(labels=y, logits=prediction))\n",
    "\n",
    "\n",
    "train_step = tf.train.GradientDescentOptimizer(0.2).minimize(loss)\n",
    "\n",
    "init = tf.global_variables_initializer()\n",
    "\n",
    "# argmax 是找到最大值所在的位置 0001000  =>3\n",
    "correct_prediction = tf.equal(tf.argmax(y, 1), tf.argmax(prediction, 1))\n",
    "temp = tf.cast(correct_prediction, tf.float32)\n",
    "accuracy = tf.reduce_mean(temp)\n",
    "\n",
    "with tf.Session() as sess:\n",
    "    sess.run(init)\n",
    "    for epoch in range(21):\n",
    "        for batch in range(n_batch):\n",
    "            batch_xs, batch_ys =  mnist.train.next_batch(batch_size)\n",
    "            sess.run(train_step, feed_dict={x: batch_xs, y:batch_ys})\n",
    "        acc = sess.run([accuracy, correct_prediction, temp], feed_dict={x:mnist.test.images, y: mnist.test.labels})\n",
    "        print(\"iter \" + str(epoch) + \", acc = \" + str(acc))"
   ]
  }
 ],
 "metadata": {
  "kernelspec": {
   "display_name": "Python 3",
   "language": "python",
   "name": "python3"
  },
  "language_info": {
   "codemirror_mode": {
    "name": "ipython",
    "version": 3
   },
   "file_extension": ".py",
   "mimetype": "text/x-python",
   "name": "python",
   "nbconvert_exporter": "python",
   "pygments_lexer": "ipython3",
   "version": "3.6.5"
  }
 },
 "nbformat": 4,
 "nbformat_minor": 2
}
